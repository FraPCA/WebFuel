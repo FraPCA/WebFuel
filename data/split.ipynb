{
  "nbformat": 4,
  "nbformat_minor": 0,
  "metadata": {
    "colab": {
      "provenance": []
    },
    "kernelspec": {
      "name": "python3",
      "display_name": "Python 3"
    },
    "language_info": {
      "name": "python"
    }
  },
  "cells": [
    {
      "cell_type": "code",
      "execution_count": null,
      "metadata": {
        "id": "hwERf5P3wT-x"
      },
      "outputs": [],
      "source": [
        "import pandas as pd\n"
      ]
    },
    {
      "cell_type": "code",
      "source": [
        "data = pd.read_csv(\"fuel_converted.csv\")"
      ],
      "metadata": {
        "id": "YEwTckkFwgFq"
      },
      "execution_count": null,
      "outputs": []
    },
    {
      "cell_type": "code",
      "source": [
        "data.info()"
      ],
      "metadata": {
        "colab": {
          "base_uri": "https://localhost:8080/"
        },
        "id": "jgF_pS54xddU",
        "outputId": "4a9860a1-e3b0-4979-8f1e-df400abcaa1c"
      },
      "execution_count": null,
      "outputs": [
        {
          "output_type": "stream",
          "name": "stdout",
          "text": [
            "<class 'pandas.core.frame.DataFrame'>\n",
            "RangeIndex: 23131 entries, 0 to 23130\n",
            "Data columns (total 39 columns):\n",
            " #   Column                             Non-Null Count  Dtype  \n",
            "---  ------                             --------------  -----  \n",
            " 0   vehicle_id                         23131 non-null  int64  \n",
            " 1   year                               23131 non-null  int64  \n",
            " 2   make                               23131 non-null  object \n",
            " 3   model                              23131 non-null  object \n",
            " 4   class                              23130 non-null  object \n",
            " 5   drive                              21942 non-null  object \n",
            " 6   transmission                       23119 non-null  object \n",
            " 7   transmission_type                  10971 non-null  object \n",
            " 8   engine_index                       23130 non-null  float64\n",
            " 9   engine_descriptor                  17075 non-null  object \n",
            " 10  engine_cylinders                   23105 non-null  float64\n",
            " 11  engine_displacement                23106 non-null  float64\n",
            " 12  turbocharger                       1806 non-null   object \n",
            " 13  fuel_type                          23130 non-null  object \n",
            " 14  fuel_type_1                        23130 non-null  object \n",
            " 15  city_mpg_ft1                       23130 non-null  float64\n",
            " 16  city_electricity_consumption       23130 non-null  float64\n",
            " 17  highway_mpg_ft1                    23130 non-null  float64\n",
            " 18  highway_electricity_consumption    23130 non-null  float64\n",
            " 19  unadjusted_city_mpg_ft1            23130 non-null  float64\n",
            " 20  unadjusted_highway_mpg_ft1         23130 non-null  float64\n",
            " 21  combined_mpg_ft1                   23130 non-null  float64\n",
            " 22  combined_electricity_consumption   23130 non-null  float64\n",
            " 23  annual_fuel_cost_ft1               23130 non-null  float64\n",
            " 24  save_or_spend_5_year               23130 non-null  float64\n",
            " 25  annual_consumption_in_barrels_ft1  23130 non-null  float64\n",
            " 26  tailpipe_co2_ft1                   23130 non-null  float64\n",
            " 27  tailpipe_co2_in_grams_mile_ft1     23130 non-null  float64\n",
            " 28  fuel_economy_score                 23130 non-null  float64\n",
            " 29  ghg_score                          23130 non-null  float64\n",
            " 30  ghg_score_alt_fuel                 23130 non-null  float64\n",
            " 31  my_mpg_data                        23130 non-null  object \n",
            " 32  x2d_passenger_volume               23130 non-null  float64\n",
            " 33  x2d_luggage_volume                 23130 non-null  float64\n",
            " 34  x4d_passenger_volume               23130 non-null  float64\n",
            " 35  x4d_luggage_volume                 23130 non-null  float64\n",
            " 36  hatchback_passenger_volume         23130 non-null  float64\n",
            " 37  hatchback_luggage_volume           23130 non-null  float64\n",
            " 38  alternative_fuel_technology        1059 non-null   object \n",
            "dtypes: float64(25), int64(2), object(12)\n",
            "memory usage: 6.9+ MB\n"
          ]
        }
      ]
    },
    {
      "cell_type": "code",
      "source": [
        "veicoli = data[[\"vehicle_id\", \"year\", \"make\", \"model\", \"class\", \"drive\", \"transmission\", \"transmission_type\", \"x2d_passenger_volume\", \"x2d_luggage_volume\", \"x4d_passenger_volume\", \"x4d_luggage_volume\", \"hatchback_passenger_volume\", \"hatchback_luggage_volume\"]]"
      ],
      "metadata": {
        "id": "1o1lZFr4yEBg"
      },
      "execution_count": null,
      "outputs": []
    },
    {
      "cell_type": "code",
      "source": [
        "veicoli.info()"
      ],
      "metadata": {
        "colab": {
          "base_uri": "https://localhost:8080/"
        },
        "id": "ieDaMC_VyvyD",
        "outputId": "7e0b1d95-0d67-477f-ed16-a795b8343b6e"
      },
      "execution_count": null,
      "outputs": [
        {
          "output_type": "stream",
          "name": "stdout",
          "text": [
            "<class 'pandas.core.frame.DataFrame'>\n",
            "RangeIndex: 23131 entries, 0 to 23130\n",
            "Data columns (total 14 columns):\n",
            " #   Column                      Non-Null Count  Dtype  \n",
            "---  ------                      --------------  -----  \n",
            " 0   vehicle_id                  23131 non-null  int64  \n",
            " 1   year                        23131 non-null  int64  \n",
            " 2   make                        23131 non-null  object \n",
            " 3   model                       23131 non-null  object \n",
            " 4   class                       23130 non-null  object \n",
            " 5   drive                       21942 non-null  object \n",
            " 6   transmission                23119 non-null  object \n",
            " 7   transmission_type           10971 non-null  object \n",
            " 8   x2d_passenger_volume        23130 non-null  float64\n",
            " 9   x2d_luggage_volume          23130 non-null  float64\n",
            " 10  x4d_passenger_volume        23130 non-null  float64\n",
            " 11  x4d_luggage_volume          23130 non-null  float64\n",
            " 12  hatchback_passenger_volume  23130 non-null  float64\n",
            " 13  hatchback_luggage_volume    23130 non-null  float64\n",
            "dtypes: float64(6), int64(2), object(6)\n",
            "memory usage: 2.5+ MB\n"
          ]
        }
      ]
    },
    {
      "cell_type": "code",
      "source": [
        "emissioni = data[[\"vehicle_id\", \"engine_index\", \"engine_descriptor\", \"engine_cylinders\", \"engine_displacement\", \"turbocharger\", \"fuel_type\", \"fuel_type_1\", \"alternative_fuel_technology\", \"ghg_score\", \"ghg_score_alt_fuel\"]]"
      ],
      "metadata": {
        "id": "Mwlr4tAZzbMG"
      },
      "execution_count": null,
      "outputs": []
    },
    {
      "cell_type": "code",
      "source": [
        "emissioni.info()"
      ],
      "metadata": {
        "colab": {
          "base_uri": "https://localhost:8080/"
        },
        "id": "SYl8QZzN0CIK",
        "outputId": "0e7fda38-cb5b-426c-cd90-7a8110d0f91f"
      },
      "execution_count": null,
      "outputs": [
        {
          "output_type": "stream",
          "name": "stdout",
          "text": [
            "<class 'pandas.core.frame.DataFrame'>\n",
            "RangeIndex: 23131 entries, 0 to 23130\n",
            "Data columns (total 11 columns):\n",
            " #   Column                       Non-Null Count  Dtype  \n",
            "---  ------                       --------------  -----  \n",
            " 0   vehicle_id                   23131 non-null  int64  \n",
            " 1   engine_index                 23130 non-null  float64\n",
            " 2   engine_descriptor            17075 non-null  object \n",
            " 3   engine_cylinders             23105 non-null  float64\n",
            " 4   engine_displacement          23106 non-null  float64\n",
            " 5   turbocharger                 1806 non-null   object \n",
            " 6   fuel_type                    23130 non-null  object \n",
            " 7   fuel_type_1                  23130 non-null  object \n",
            " 8   alternative_fuel_technology  1059 non-null   object \n",
            " 9   ghg_score                    23130 non-null  float64\n",
            " 10  ghg_score_alt_fuel           23130 non-null  float64\n",
            "dtypes: float64(5), int64(1), object(5)\n",
            "memory usage: 1.9+ MB\n"
          ]
        }
      ]
    },
    {
      "cell_type": "code",
      "source": [
        "consumi = data[[\"vehicle_id\", \"city_mpg_ft1\", \"city_electricity_consumption\", \"highway_mpg_ft1\", \"highway_electricity_consumption\", \"unadjusted_city_mpg_ft1\", \"unadjusted_highway_mpg_ft1\", \"combined_mpg_ft1\", \"combined_electricity_consumption\", \"annual_fuel_cost_ft1\",\"save_or_spend_5_year\", \"annual_consumption_in_barrels_ft1\", \"tailpipe_co2_ft1\", \"tailpipe_co2_in_grams_mile_ft1\", \"fuel_economy_score\", \"my_mpg_data\"]]"
      ],
      "metadata": {
        "id": "eo6Nt_Ba0Iya"
      },
      "execution_count": null,
      "outputs": []
    },
    {
      "cell_type": "code",
      "source": [
        "consumi.info()"
      ],
      "metadata": {
        "colab": {
          "base_uri": "https://localhost:8080/"
        },
        "id": "vJYxlxf90_pW",
        "outputId": "1d98b1eb-6904-46a4-dc04-08b8b812347a"
      },
      "execution_count": null,
      "outputs": [
        {
          "output_type": "stream",
          "name": "stdout",
          "text": [
            "<class 'pandas.core.frame.DataFrame'>\n",
            "RangeIndex: 23131 entries, 0 to 23130\n",
            "Data columns (total 16 columns):\n",
            " #   Column                             Non-Null Count  Dtype  \n",
            "---  ------                             --------------  -----  \n",
            " 0   vehicle_id                         23131 non-null  int64  \n",
            " 1   city_mpg_ft1                       23130 non-null  float64\n",
            " 2   city_electricity_consumption       23130 non-null  float64\n",
            " 3   highway_mpg_ft1                    23130 non-null  float64\n",
            " 4   highway_electricity_consumption    23130 non-null  float64\n",
            " 5   unadjusted_city_mpg_ft1            23130 non-null  float64\n",
            " 6   unadjusted_highway_mpg_ft1         23130 non-null  float64\n",
            " 7   combined_mpg_ft1                   23130 non-null  float64\n",
            " 8   combined_electricity_consumption   23130 non-null  float64\n",
            " 9   annual_fuel_cost_ft1               23130 non-null  float64\n",
            " 10  save_or_spend_5_year               23130 non-null  float64\n",
            " 11  annual_consumption_in_barrels_ft1  23130 non-null  float64\n",
            " 12  tailpipe_co2_ft1                   23130 non-null  float64\n",
            " 13  tailpipe_co2_in_grams_mile_ft1     23130 non-null  float64\n",
            " 14  fuel_economy_score                 23130 non-null  float64\n",
            " 15  my_mpg_data                        23130 non-null  object \n",
            "dtypes: float64(14), int64(1), object(1)\n",
            "memory usage: 2.8+ MB\n"
          ]
        }
      ]
    },
    {
      "cell_type": "code",
      "source": [
        "veicoli.to_csv(\"veicoli.csv\", index=False)"
      ],
      "metadata": {
        "id": "-ciIHOGW152D"
      },
      "execution_count": null,
      "outputs": []
    },
    {
      "cell_type": "code",
      "source": [
        "emissioni.to_csv(\"emissioni.csv\", index=False)"
      ],
      "metadata": {
        "id": "irABvG-h2C7i"
      },
      "execution_count": null,
      "outputs": []
    },
    {
      "cell_type": "code",
      "source": [
        "consumi.to_csv(\"consumi.csv\", index=False)"
      ],
      "metadata": {
        "id": "bkhypzX92GV1"
      },
      "execution_count": null,
      "outputs": []
    }
  ]
}