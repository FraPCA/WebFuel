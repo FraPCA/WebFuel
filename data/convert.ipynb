{
  "nbformat": 4,
  "nbformat_minor": 0,
  "metadata": {
    "colab": {
      "provenance": []
    },
    "kernelspec": {
      "name": "python3",
      "display_name": "Python 3"
    },
    "language_info": {
      "name": "python"
    }
  },
  "cells": [
    {
      "cell_type": "code",
      "execution_count": null,
      "metadata": {
        "id": "hDOmV6xvnxpe"
      },
      "outputs": [],
      "source": [
        "# Fattore di conversione da MPG a km/L: 1 MPG=0.425144 km/L\n",
        "mpg_to_kmpl = 0.425144"
      ]
    },
    {
      "cell_type": "code",
      "source": [
        "# Elenco delle colonne da convertire\n",
        "columns_to_convert = [\n",
        "    'city_mpg_ft1',\n",
        "    'city_electricity_consumption',\n",
        "    'highway_mpg_ft1',\n",
        "    'highway_electricity_consumption',\n",
        "    'unadjusted_city_mpg_ft1',\n",
        "    'unadjusted_highway_mpg_ft1',\n",
        "    'combined_mpg_ft1',\n",
        "    'combined_electricity_consumption'\n",
        "]"
      ],
      "metadata": {
        "id": "3R_NkpVdo2mP"
      },
      "execution_count": null,
      "outputs": []
    },
    {
      "cell_type": "code",
      "source": [
        "import pandas as pd\n",
        "\n",
        "file_path = 'fuel-da-convertire.csv'\n",
        "df = pd.read_csv(file_path)\n",
        "\n",
        "# Visualizza i primi dati della colonna city_mpg_ft1\n",
        "print(df['city_mpg_ft1'].head())"
      ],
      "metadata": {
        "colab": {
          "base_uri": "https://localhost:8080/"
        },
        "id": "4qhPkFQnpSLq",
        "outputId": "45f57dfc-187a-49ca-b003-9e27739fe18d"
      },
      "execution_count": null,
      "outputs": [
        {
          "output_type": "stream",
          "name": "stdout",
          "text": [
            "0    17\n",
            "1    17\n",
            "2    18\n",
            "3    18\n",
            "4    18\n",
            "Name: city_mpg_ft1, dtype: int64\n"
          ]
        },
        {
          "output_type": "stream",
          "name": "stderr",
          "text": [
            "<ipython-input-3-94457275bd3a>:4: DtypeWarning: Columns (7) have mixed types. Specify dtype option on import or set low_memory=False.\n",
            "  df = pd.read_csv(file_path)\n"
          ]
        }
      ]
    },
    {
      "cell_type": "code",
      "source": [
        "for column in columns_to_convert:\n",
        "    df[column] = df[column] * mpg_to_kmpl"
      ],
      "metadata": {
        "id": "SCGpcSeMp6OP"
      },
      "execution_count": null,
      "outputs": []
    },
    {
      "cell_type": "code",
      "source": [
        "# Verifica che la conversione sia avvenuta correttamente\n",
        "print(df['city_mpg_ft1'].head())"
      ],
      "metadata": {
        "colab": {
          "base_uri": "https://localhost:8080/"
        },
        "id": "JFJ3gAKPp78s",
        "outputId": "76959934-8ad5-4f71-ad33-1fd97165d6dd"
      },
      "execution_count": null,
      "outputs": [
        {
          "output_type": "stream",
          "name": "stdout",
          "text": [
            "0    7.227448\n",
            "1    7.227448\n",
            "2    7.652592\n",
            "3    7.652592\n",
            "4    7.652592\n",
            "Name: city_mpg_ft1, dtype: float64\n"
          ]
        }
      ]
    },
    {
      "cell_type": "code",
      "source": [
        "# Tasso di cambio da dollari a euro\n",
        "usd_to_eur = 0.85\n",
        "\n",
        "# Elenco delle colonne da convertire\n",
        "columns_to_convert = [\n",
        "    'annual_fuel_cost_ft1',\n",
        "    'save_or_spend_5_year'\n",
        "]\n",
        "\n",
        "# Converti i valori delle colonne da USD a EUR\n",
        "for column in columns_to_convert:\n",
        "    df[column] = df[column] * usd_to_eur\n",
        "\n",
        "# Visualizza i primi dati delle colonne convertite\n",
        "print(df[columns_to_convert].head())"
      ],
      "metadata": {
        "colab": {
          "base_uri": "https://localhost:8080/"
        },
        "id": "kUHe3DEqqECV",
        "outputId": "32dfb238-21a1-457d-bee0-e977e12f345d"
      },
      "execution_count": null,
      "outputs": [
        {
          "output_type": "stream",
          "name": "stdout",
          "text": [
            "   annual_fuel_cost_ft1  save_or_spend_5_year\n",
            "0                1487.5               -1700.0\n",
            "1                1487.5               -1700.0\n",
            "2                1402.5               -1275.0\n",
            "3                1402.5               -1275.0\n",
            "4                1742.5               -2975.0\n"
          ]
        }
      ]
    },
    {
      "cell_type": "code",
      "source": [
        "# La conversione è avvenuta correttamente. Salviamo il file csv\n",
        "output_file_path = '/content/fuel_convertito.csv'\n",
        "df.to_csv(output_file_path, index=False)"
      ],
      "metadata": {
        "id": "nuZkdWsrq2Uj"
      },
      "execution_count": null,
      "outputs": []
    }
  ]
}