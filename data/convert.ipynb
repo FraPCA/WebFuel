{
  "cells": [
    {
      "cell_type": "code",
      "execution_count": null,
      "metadata": {
        "id": "hDOmV6xvnxpe"
      },
      "outputs": [],
      "source": [
        "# Fattore di conversione da MPG a km/L: 1 MPG=0.425144 km/L\n",
        "mpg_to_kmpl = 0.425144"
      ]
    },
    {
      "cell_type": "code",
      "execution_count": null,
      "metadata": {
        "id": "3R_NkpVdo2mP"
      },
      "outputs": [],
      "source": [
        "# Elenco delle colonne da convertire\n",
        "columns_to_convert = [\n",
        "    'city_mpg_ft1',\n",
        "    'city_electricity_consumption',\n",
        "    'highway_mpg_ft1',\n",
        "    'highway_electricity_consumption',\n",
        "    'unadjusted_city_mpg_ft1',\n",
        "    'unadjusted_highway_mpg_ft1',\n",
        "    'combined_mpg_ft1',\n",
        "    'combined_electricity_consumption'\n",
        "]"
      ]
    },
    {
      "cell_type": "code",
      "execution_count": null,
      "metadata": {
        "colab": {
          "base_uri": "https://localhost:8080/"
        },
        "id": "4qhPkFQnpSLq",
        "outputId": "45f57dfc-187a-49ca-b003-9e27739fe18d"
      },
      "outputs": [
        {
          "name": "stdout",
          "output_type": "stream",
          "text": [
            "0    17\n",
            "1    17\n",
            "2    18\n",
            "3    18\n",
            "4    18\n",
            "Name: city_mpg_ft1, dtype: int64\n"
          ]
        },
        {
          "name": "stderr",
          "output_type": "stream",
          "text": [
            "<ipython-input-3-94457275bd3a>:4: DtypeWarning: Columns (7) have mixed types. Specify dtype option on import or set low_memory=False.\n",
            "  df = pd.read_csv(file_path)\n"
          ]
        }
      ],
      "source": [
        "import pandas as pd\n",
        "\n",
        "file_path = 'fuel_cleaned.csv'\n",
        "df = pd.read_csv(file_path)\n",
        "\n",
        "# Visualizza i primi dati della colonna city_mpg_ft1\n",
        "print(df['city_mpg_ft1'].head())"
      ]
    },
    {
      "cell_type": "code",
      "execution_count": null,
      "metadata": {
        "id": "SCGpcSeMp6OP"
      },
      "outputs": [],
      "source": [
        "for column in columns_to_convert:\n",
        "    df[column] = df[column] * mpg_to_kmpl"
      ]
    },
    {
      "cell_type": "code",
      "execution_count": null,
      "metadata": {
        "colab": {
          "base_uri": "https://localhost:8080/"
        },
        "id": "JFJ3gAKPp78s",
        "outputId": "76959934-8ad5-4f71-ad33-1fd97165d6dd"
      },
      "outputs": [
        {
          "name": "stdout",
          "output_type": "stream",
          "text": [
            "0    7.227448\n",
            "1    7.227448\n",
            "2    7.652592\n",
            "3    7.652592\n",
            "4    7.652592\n",
            "Name: city_mpg_ft1, dtype: float64\n"
          ]
        }
      ],
      "source": [
        "# Verifica che la conversione sia avvenuta correttamente\n",
        "print(df['city_mpg_ft1'].head())"
      ]
    },
    {
      "cell_type": "code",
      "execution_count": null,
      "metadata": {
        "colab": {
          "base_uri": "https://localhost:8080/"
        },
        "id": "kUHe3DEqqECV",
        "outputId": "32dfb238-21a1-457d-bee0-e977e12f345d"
      },
      "outputs": [
        {
          "name": "stdout",
          "output_type": "stream",
          "text": [
            "   annual_fuel_cost_ft1  save_or_spend_5_year\n",
            "0                1487.5               -1700.0\n",
            "1                1487.5               -1700.0\n",
            "2                1402.5               -1275.0\n",
            "3                1402.5               -1275.0\n",
            "4                1742.5               -2975.0\n"
          ]
        }
      ],
      "source": [
        "# Tasso di cambio da dollari a euro\n",
        "usd_to_eur = 0.85\n",
        "\n",
        "# Elenco delle colonne da convertire\n",
        "columns_to_convert = [\n",
        "    'annual_fuel_cost_ft1',\n",
        "    'save_or_spend_5_year'\n",
        "]\n",
        "\n",
        "# Converti i valori delle colonne da USD a EUR\n",
        "for column in columns_to_convert:\n",
        "    df[column] = df[column] * usd_to_eur\n",
        "\n",
        "# Visualizza i primi dati delle colonne convertite\n",
        "print(df[columns_to_convert].head())"
      ]
    },
    {
      "cell_type": "code",
      "execution_count": null,
      "metadata": {
        "id": "nuZkdWsrq2Uj"
      },
      "outputs": [],
      "source": [
        "# La conversione è avvenuta correttamente. Salviamo il file csv\n",
        "output_file_path = 'fuel_converted.csv'\n",
        "df.to_csv(output_file_path, index=False)"
      ]
    }
  ],
  "metadata": {
    "colab": {
      "provenance": []
    },
    "kernelspec": {
      "display_name": "Python 3",
      "name": "python3"
    },
    "language_info": {
      "name": "python"
    }
  },
  "nbformat": 4,
  "nbformat_minor": 0
}
